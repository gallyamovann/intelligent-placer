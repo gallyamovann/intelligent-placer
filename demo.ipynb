{
 "cells": [
  {
   "cell_type": "code",
   "execution_count": 1,
   "metadata": {},
   "outputs": [
    {
     "ename": "NameError",
     "evalue": "name 'Path' is not defined",
     "output_type": "error",
     "traceback": [
      "\u001b[1;31m---------------------------------------------------------------------------\u001b[0m",
      "\u001b[1;31mNameError\u001b[0m                                 Traceback (most recent call last)",
      "Cell \u001b[1;32mIn [1], line 3\u001b[0m\n\u001b[0;32m      1\u001b[0m \u001b[39mfrom\u001b[39;00m \u001b[39mmain\u001b[39;00m \u001b[39mimport\u001b[39;00m demonstration_items, demonstration_test\n\u001b[1;32m----> 3\u001b[0m path_items \u001b[39m=\u001b[39m Path(\u001b[39m\"\u001b[39m\u001b[39mdata/items\u001b[39m\u001b[39m\"\u001b[39m)\n\u001b[0;32m      4\u001b[0m path_tests \u001b[39m=\u001b[39m Path(\u001b[39m\"\u001b[39m\u001b[39mdata/test\u001b[39m\u001b[39m\"\u001b[39m)\n\u001b[0;32m      6\u001b[0m demonstration_items(path_items)\n",
      "\u001b[1;31mNameError\u001b[0m: name 'Path' is not defined"
     ]
    }
   ],
   "source": [
    "from main import demonstration_items, demonstration_test\n",
    "from pathlib import Path\n",
    "\n",
    "path_items = Path(\"data/items\")\n",
    "path_tests = Path(\"data/test\")\n",
    "\n",
    "demonstration_items(path_items)"
   ]
  },
  {
   "cell_type": "code",
   "execution_count": null,
   "metadata": {},
   "outputs": [],
   "source": [
    "demonstration_test(path_tests)"
   ]
  }
 ],
 "metadata": {
  "kernelspec": {
   "display_name": "Python 3.9.13 ('sem_gap_second_')",
   "language": "python",
   "name": "python3"
  },
  "language_info": {
   "codemirror_mode": {
    "name": "ipython",
    "version": 3
   },
   "file_extension": ".py",
   "mimetype": "text/x-python",
   "name": "python",
   "nbconvert_exporter": "python",
   "pygments_lexer": "ipython3",
   "version": "3.9.13"
  },
  "orig_nbformat": 4,
  "vscode": {
   "interpreter": {
    "hash": "a39027b16f94980e5764afc94d30feec687f4c711e137d9be529d70c8301517f"
   }
  }
 },
 "nbformat": 4,
 "nbformat_minor": 2
}
